{
 "cells": [
  {
   "cell_type": "code",
   "execution_count": 1,
   "metadata": {},
   "outputs": [],
   "source": [
    "import requests\n",
    "import pandas as pd\n",
    "import numpy"
   ]
  },
  {
   "cell_type": "code",
   "execution_count": 2,
   "metadata": {},
   "outputs": [],
   "source": [
    "words = ['sample', 'wave']"
   ]
  },
  {
   "cell_type": "code",
   "execution_count": 3,
   "metadata": {},
   "outputs": [],
   "source": [
    "base_url = \"https://api.dictionaryapi.dev/api/v2/entries/en/\"\n"
   ]
  },
  {
   "cell_type": "code",
   "execution_count": 22,
   "metadata": {},
   "outputs": [
    {
     "name": "stdout",
     "output_type": "stream",
     "text": [
      "sample A part or snippet of something taken or presented for inspection, or shown as evidence of the quality of the whole; a specimen. ['example', 'specimen']\n",
      "wave To move back and forth repeatedly and somewhat loosely. []\n"
     ]
    }
   ],
   "source": [
    "for word in words:\n",
    "    res = requests.get(f'{base_url}{word}')\n",
    "    data = res.json()\n",
    "    the_word = data[0]['word']\n",
    "    meaning = data[0]['meanings'][0]['definitions'][0]['definition']\n",
    "    synonyms = data[0]['meanings'][0]['synonyms']\n",
    "    print(the_word, meaning, synonyms)"
   ]
  },
  {
   "cell_type": "code",
   "execution_count": 4,
   "metadata": {},
   "outputs": [
    {
     "data": {
      "text/plain": [
       "[{'word': 'sample',\n",
       "  'phonetic': '/sæːm.pəl/',\n",
       "  'phonetics': [{'text': '/sæːm.pəl/', 'audio': ''},\n",
       "   {'text': '/ˈsɑːm.pəl/', 'audio': ''},\n",
       "   {'text': '/ˈsæm.pəl/', 'audio': ''}],\n",
       "  'meanings': [{'partOfSpeech': 'noun',\n",
       "    'definitions': [{'definition': 'A part or snippet of something taken or presented for inspection, or shown as evidence of the quality of the whole; a specimen.',\n",
       "      'synonyms': [],\n",
       "      'antonyms': [],\n",
       "      'example': 'a blood sample'},\n",
       "     {'definition': 'A subset of a population selected for measurement, observation or questioning, to provide statistical information about the population.',\n",
       "      'synonyms': [],\n",
       "      'antonyms': []},\n",
       "     {'definition': 'A small quantity of food for tasting, typically given away for free.',\n",
       "      'synonyms': [],\n",
       "      'antonyms': []},\n",
       "     {'definition': 'A small piece of some goods, for determining quality, colour, etc., typically given away for free.',\n",
       "      'synonyms': [],\n",
       "      'antonyms': []},\n",
       "     {'definition': 'Gratuitous borrowing of easily recognised phases (or moments) from other music (or movies) in a recording.',\n",
       "      'synonyms': [],\n",
       "      'antonyms': []},\n",
       "     {'definition': 'Example; pattern.', 'synonyms': [], 'antonyms': []}],\n",
       "    'synonyms': ['example', 'specimen'],\n",
       "    'antonyms': []},\n",
       "   {'partOfSpeech': 'verb',\n",
       "    'definitions': [{'definition': 'To take or to test a sample or samples of.',\n",
       "      'synonyms': [],\n",
       "      'antonyms': []},\n",
       "     {'definition': 'To reduce a continuous signal (such as a sound wave) to a discrete signal.',\n",
       "      'synonyms': [],\n",
       "      'antonyms': []},\n",
       "     {'definition': 'To reuse a portion of (an existing sound recording) in a new piece of music.',\n",
       "      'synonyms': [],\n",
       "      'antonyms': []},\n",
       "     {'definition': 'To make or show something similar to a sample.',\n",
       "      'synonyms': [],\n",
       "      'antonyms': []}],\n",
       "    'synonyms': [],\n",
       "    'antonyms': []}],\n",
       "  'license': {'name': 'CC BY-SA 3.0',\n",
       "   'url': 'https://creativecommons.org/licenses/by-sa/3.0'},\n",
       "  'sourceUrls': ['https://en.wiktionary.org/wiki/sample']}]"
      ]
     },
     "execution_count": 4,
     "metadata": {},
     "output_type": "execute_result"
    }
   ],
   "source": [
    "steve = res.json()\n",
    "steve"
   ]
  },
  {
   "cell_type": "code",
   "execution_count": 5,
   "metadata": {},
   "outputs": [
    {
     "data": {
      "text/plain": [
       "{'word': 'sample',\n",
       " 'phonetic': '/sæːm.pəl/',\n",
       " 'phonetics': [{'text': '/sæːm.pəl/', 'audio': ''},\n",
       "  {'text': '/ˈsɑːm.pəl/', 'audio': ''},\n",
       "  {'text': '/ˈsæm.pəl/', 'audio': ''}],\n",
       " 'meanings': [{'partOfSpeech': 'noun',\n",
       "   'definitions': [{'definition': 'A part or snippet of something taken or presented for inspection, or shown as evidence of the quality of the whole; a specimen.',\n",
       "     'synonyms': [],\n",
       "     'antonyms': [],\n",
       "     'example': 'a blood sample'},\n",
       "    {'definition': 'A subset of a population selected for measurement, observation or questioning, to provide statistical information about the population.',\n",
       "     'synonyms': [],\n",
       "     'antonyms': []},\n",
       "    {'definition': 'A small quantity of food for tasting, typically given away for free.',\n",
       "     'synonyms': [],\n",
       "     'antonyms': []},\n",
       "    {'definition': 'A small piece of some goods, for determining quality, colour, etc., typically given away for free.',\n",
       "     'synonyms': [],\n",
       "     'antonyms': []},\n",
       "    {'definition': 'Gratuitous borrowing of easily recognised phases (or moments) from other music (or movies) in a recording.',\n",
       "     'synonyms': [],\n",
       "     'antonyms': []},\n",
       "    {'definition': 'Example; pattern.', 'synonyms': [], 'antonyms': []}],\n",
       "   'synonyms': ['example', 'specimen'],\n",
       "   'antonyms': []},\n",
       "  {'partOfSpeech': 'verb',\n",
       "   'definitions': [{'definition': 'To take or to test a sample or samples of.',\n",
       "     'synonyms': [],\n",
       "     'antonyms': []},\n",
       "    {'definition': 'To reduce a continuous signal (such as a sound wave) to a discrete signal.',\n",
       "     'synonyms': [],\n",
       "     'antonyms': []},\n",
       "    {'definition': 'To reuse a portion of (an existing sound recording) in a new piece of music.',\n",
       "     'synonyms': [],\n",
       "     'antonyms': []},\n",
       "    {'definition': 'To make or show something similar to a sample.',\n",
       "     'synonyms': [],\n",
       "     'antonyms': []}],\n",
       "   'synonyms': [],\n",
       "   'antonyms': []}],\n",
       " 'license': {'name': 'CC BY-SA 3.0',\n",
       "  'url': 'https://creativecommons.org/licenses/by-sa/3.0'},\n",
       " 'sourceUrls': ['https://en.wiktionary.org/wiki/sample']}"
      ]
     },
     "execution_count": 5,
     "metadata": {},
     "output_type": "execute_result"
    }
   ],
   "source": [
    "steve[0]"
   ]
  },
  {
   "cell_type": "code",
   "execution_count": 6,
   "metadata": {},
   "outputs": [
    {
     "name": "stdout",
     "output_type": "stream",
     "text": [
      "sample A part or snippet of something taken or presented for inspection, or shown as evidence of the quality of the whole; a specimen. ['example', 'specimen']\n"
     ]
    }
   ],
   "source": [
    "the_word = steve[0]['word']\n",
    "meaning = steve[0]['meanings'][0]['definitions'][0]['definition']\n",
    "synonyms = steve[0]['meanings'][0]['synonyms']\n",
    "print(the_word,meaning,synonyms)"
   ]
  }
 ],
 "metadata": {
  "kernelspec": {
   "display_name": "dev",
   "language": "python",
   "name": "python3"
  },
  "language_info": {
   "codemirror_mode": {
    "name": "ipython",
    "version": 3
   },
   "file_extension": ".py",
   "mimetype": "text/x-python",
   "name": "python",
   "nbconvert_exporter": "python",
   "pygments_lexer": "ipython3",
   "version": "3.10.14"
  }
 },
 "nbformat": 4,
 "nbformat_minor": 2
}
